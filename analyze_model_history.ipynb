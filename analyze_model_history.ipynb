{
 "cells": [
  {
   "cell_type": "code",
   "execution_count": 4,
   "id": "ffe3451d-7b6f-4b84-ac02-66aec81e3075",
   "metadata": {},
   "outputs": [],
   "source": [
    "import json\n",
    "import random\n",
    "import unittest\n",
    "from collections import defaultdict\n",
    "from typing import Dict\n",
    "\n",
    "import plotly.graph_objects as go\n",
    "from plotly.subplots import make_subplots\n",
    "\n",
    "from util.core import find_root_dir"
   ]
  },
  {
   "cell_type": "code",
   "execution_count": null,
   "id": "dd387ad0-517d-4f36-971a-19d0bb5f5218",
   "metadata": {},
   "outputs": [],
   "source": [
    "with open(find_root_dir()/'model/discard_v4_test_400_cp/custom_objects.json', 'r') as f:\n",
    "    data = json.load(f)\n",
    "    hist=data['history']\n",
    "    fig = go.Figure()\n",
    "    for name, data in hist.items():\n",
    "        fig.add_scatter(y=data, name = name)\n",
    "    fig.show()"
   ]
  }
 ],
 "metadata": {
  "kernelspec": {
   "display_name": "Python 3 (ipykernel)",
   "language": "python",
   "name": "python3"
  },
  "language_info": {
   "codemirror_mode": {
    "name": "ipython",
    "version": 3
   },
   "file_extension": ".py",
   "mimetype": "text/x-python",
   "name": "python",
   "nbconvert_exporter": "python",
   "pygments_lexer": "ipython3",
   "version": "3.11.4"
  }
 },
 "nbformat": 4,
 "nbformat_minor": 5
}
